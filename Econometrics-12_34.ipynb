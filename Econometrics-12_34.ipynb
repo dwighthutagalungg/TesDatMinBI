{
  "nbformat": 4,
  "nbformat_minor": 0,
  "metadata": {
    "colab": {
      "provenance": [],
      "collapsed_sections": []
    },
    "kernelspec": {
      "name": "python3",
      "display_name": "Python 3"
    },
    "language_info": {
      "name": "python"
    }
  },
  "cells": [
    {
      "cell_type": "code",
      "execution_count": null,
      "metadata": {
        "id": "XIR3CZ4S0Vjh"
      },
      "outputs": [],
      "source": [
        "import pandas as pd\n",
        "import matplotlib.pyplot as plt\n",
        "import numpy as np\n",
        "from statsmodels.formula.api import ols\n",
        "import statsmodels.api as sm\n",
        "from statsmodels.stats.stattools import durbin_watson"
      ]
    },
    {
      "cell_type": "code",
      "source": [
        "df = pd.read_excel(\"/content/Dataset Table 12.9.xlsx\")\n",
        "df = df.iloc[:,[0,1,2,3]]\n",
        "df.columns = [\"year\",\"sales\",\"inventories\",\"ratio\"]\n",
        "df.index = pd.to_datetime(df['year'], format='%Y')\n",
        "df.drop(\"year\",axis=1,inplace=True)\n",
        "model = ols(\"inventories ~ sales\",data=df).fit()"
      ],
      "metadata": {
        "id": "Zn7-D-GD0lHF"
      },
      "execution_count": null,
      "outputs": []
    },
    {
      "cell_type": "code",
      "source": [
        "df.head()"
      ],
      "metadata": {
        "colab": {
          "base_uri": "https://localhost:8080/",
          "height": 237
        },
        "id": "DjBWeKtLqTY3",
        "outputId": "c4540c5f-223e-4c97-e935-facbe772ffbc"
      },
      "execution_count": null,
      "outputs": [
        {
          "output_type": "execute_result",
          "data": {
            "text/plain": [
              "             sales  inventories  ratio\n",
              "year                                  \n",
              "1950-01-01  46.486       84.646   1.82\n",
              "1951-01-01  50.229       90.560   1.80\n",
              "1952-01-01  53.501       98.145   1.83\n",
              "1953-01-01  52.805      101.599   1.92\n",
              "1954-01-01  55.906      102.567   1.83"
            ],
            "text/html": [
              "\n",
              "  <div id=\"df-dabed039-808a-4301-b0fc-ae113ef16fd9\">\n",
              "    <div class=\"colab-df-container\">\n",
              "      <div>\n",
              "<style scoped>\n",
              "    .dataframe tbody tr th:only-of-type {\n",
              "        vertical-align: middle;\n",
              "    }\n",
              "\n",
              "    .dataframe tbody tr th {\n",
              "        vertical-align: top;\n",
              "    }\n",
              "\n",
              "    .dataframe thead th {\n",
              "        text-align: right;\n",
              "    }\n",
              "</style>\n",
              "<table border=\"1\" class=\"dataframe\">\n",
              "  <thead>\n",
              "    <tr style=\"text-align: right;\">\n",
              "      <th></th>\n",
              "      <th>sales</th>\n",
              "      <th>inventories</th>\n",
              "      <th>ratio</th>\n",
              "    </tr>\n",
              "    <tr>\n",
              "      <th>year</th>\n",
              "      <th></th>\n",
              "      <th></th>\n",
              "      <th></th>\n",
              "    </tr>\n",
              "  </thead>\n",
              "  <tbody>\n",
              "    <tr>\n",
              "      <th>1950-01-01</th>\n",
              "      <td>46.486</td>\n",
              "      <td>84.646</td>\n",
              "      <td>1.82</td>\n",
              "    </tr>\n",
              "    <tr>\n",
              "      <th>1951-01-01</th>\n",
              "      <td>50.229</td>\n",
              "      <td>90.560</td>\n",
              "      <td>1.80</td>\n",
              "    </tr>\n",
              "    <tr>\n",
              "      <th>1952-01-01</th>\n",
              "      <td>53.501</td>\n",
              "      <td>98.145</td>\n",
              "      <td>1.83</td>\n",
              "    </tr>\n",
              "    <tr>\n",
              "      <th>1953-01-01</th>\n",
              "      <td>52.805</td>\n",
              "      <td>101.599</td>\n",
              "      <td>1.92</td>\n",
              "    </tr>\n",
              "    <tr>\n",
              "      <th>1954-01-01</th>\n",
              "      <td>55.906</td>\n",
              "      <td>102.567</td>\n",
              "      <td>1.83</td>\n",
              "    </tr>\n",
              "  </tbody>\n",
              "</table>\n",
              "</div>\n",
              "      <button class=\"colab-df-convert\" onclick=\"convertToInteractive('df-dabed039-808a-4301-b0fc-ae113ef16fd9')\"\n",
              "              title=\"Convert this dataframe to an interactive table.\"\n",
              "              style=\"display:none;\">\n",
              "        \n",
              "  <svg xmlns=\"http://www.w3.org/2000/svg\" height=\"24px\"viewBox=\"0 0 24 24\"\n",
              "       width=\"24px\">\n",
              "    <path d=\"M0 0h24v24H0V0z\" fill=\"none\"/>\n",
              "    <path d=\"M18.56 5.44l.94 2.06.94-2.06 2.06-.94-2.06-.94-.94-2.06-.94 2.06-2.06.94zm-11 1L8.5 8.5l.94-2.06 2.06-.94-2.06-.94L8.5 2.5l-.94 2.06-2.06.94zm10 10l.94 2.06.94-2.06 2.06-.94-2.06-.94-.94-2.06-.94 2.06-2.06.94z\"/><path d=\"M17.41 7.96l-1.37-1.37c-.4-.4-.92-.59-1.43-.59-.52 0-1.04.2-1.43.59L10.3 9.45l-7.72 7.72c-.78.78-.78 2.05 0 2.83L4 21.41c.39.39.9.59 1.41.59.51 0 1.02-.2 1.41-.59l7.78-7.78 2.81-2.81c.8-.78.8-2.07 0-2.86zM5.41 20L4 18.59l7.72-7.72 1.47 1.35L5.41 20z\"/>\n",
              "  </svg>\n",
              "      </button>\n",
              "      \n",
              "  <style>\n",
              "    .colab-df-container {\n",
              "      display:flex;\n",
              "      flex-wrap:wrap;\n",
              "      gap: 12px;\n",
              "    }\n",
              "\n",
              "    .colab-df-convert {\n",
              "      background-color: #E8F0FE;\n",
              "      border: none;\n",
              "      border-radius: 50%;\n",
              "      cursor: pointer;\n",
              "      display: none;\n",
              "      fill: #1967D2;\n",
              "      height: 32px;\n",
              "      padding: 0 0 0 0;\n",
              "      width: 32px;\n",
              "    }\n",
              "\n",
              "    .colab-df-convert:hover {\n",
              "      background-color: #E2EBFA;\n",
              "      box-shadow: 0px 1px 2px rgba(60, 64, 67, 0.3), 0px 1px 3px 1px rgba(60, 64, 67, 0.15);\n",
              "      fill: #174EA6;\n",
              "    }\n",
              "\n",
              "    [theme=dark] .colab-df-convert {\n",
              "      background-color: #3B4455;\n",
              "      fill: #D2E3FC;\n",
              "    }\n",
              "\n",
              "    [theme=dark] .colab-df-convert:hover {\n",
              "      background-color: #434B5C;\n",
              "      box-shadow: 0px 1px 3px 1px rgba(0, 0, 0, 0.15);\n",
              "      filter: drop-shadow(0px 1px 2px rgba(0, 0, 0, 0.3));\n",
              "      fill: #FFFFFF;\n",
              "    }\n",
              "  </style>\n",
              "\n",
              "      <script>\n",
              "        const buttonEl =\n",
              "          document.querySelector('#df-dabed039-808a-4301-b0fc-ae113ef16fd9 button.colab-df-convert');\n",
              "        buttonEl.style.display =\n",
              "          google.colab.kernel.accessAllowed ? 'block' : 'none';\n",
              "\n",
              "        async function convertToInteractive(key) {\n",
              "          const element = document.querySelector('#df-dabed039-808a-4301-b0fc-ae113ef16fd9');\n",
              "          const dataTable =\n",
              "            await google.colab.kernel.invokeFunction('convertToInteractive',\n",
              "                                                     [key], {});\n",
              "          if (!dataTable) return;\n",
              "\n",
              "          const docLinkHtml = 'Like what you see? Visit the ' +\n",
              "            '<a target=\"_blank\" href=https://colab.research.google.com/notebooks/data_table.ipynb>data table notebook</a>'\n",
              "            + ' to learn more about interactive tables.';\n",
              "          element.innerHTML = '';\n",
              "          dataTable['output_type'] = 'display_data';\n",
              "          await google.colab.output.renderOutput(dataTable, element);\n",
              "          const docLink = document.createElement('div');\n",
              "          docLink.innerHTML = docLinkHtml;\n",
              "          element.appendChild(docLink);\n",
              "        }\n",
              "      </script>\n",
              "    </div>\n",
              "  </div>\n",
              "  "
            ]
          },
          "metadata": {},
          "execution_count": 74
        }
      ]
    },
    {
      "cell_type": "code",
      "source": [
        "print(model.summary())"
      ],
      "metadata": {
        "colab": {
          "base_uri": "https://localhost:8080/"
        },
        "id": "8a39_ySUno8P",
        "outputId": "d6d9504b-d908-4610-982f-3f75cee9fea8"
      },
      "execution_count": null,
      "outputs": [
        {
          "output_type": "stream",
          "name": "stdout",
          "text": [
            "                            OLS Regression Results                            \n",
            "==============================================================================\n",
            "Dep. Variable:            inventories   R-squared:                       0.943\n",
            "Model:                            OLS   Adj. R-squared:                  0.942\n",
            "Method:                 Least Squares   F-statistic:                     645.0\n",
            "Date:                Sat, 10 Sep 2022   Prob (F-statistic):           7.21e-26\n",
            "Time:                        13:51:39   Log-Likelihood:                -198.99\n",
            "No. Observations:                  41   AIC:                             402.0\n",
            "Df Residuals:                      39   BIC:                             405.4\n",
            "Df Model:                           1                                         \n",
            "Covariance Type:            nonrobust                                         \n",
            "==============================================================================\n",
            "                 coef    std err          t      P>|t|      [0.025      0.975]\n",
            "------------------------------------------------------------------------------\n",
            "Intercept     66.6690     10.896      6.119      0.000      44.630      88.708\n",
            "sales          1.1839      0.047     25.396      0.000       1.090       1.278\n",
            "==============================================================================\n",
            "Omnibus:                        5.685   Durbin-Watson:                   0.126\n",
            "Prob(Omnibus):                  0.058   Jarque-Bera (JB):                2.046\n",
            "Skew:                          -0.051   Prob(JB):                        0.360\n",
            "Kurtosis:                       1.911   Cond. No.                         513.\n",
            "==============================================================================\n",
            "\n",
            "Notes:\n",
            "[1] Standard Errors assume that the covariance matrix of the errors is correctly specified.\n"
          ]
        }
      ]
    },
    {
      "cell_type": "code",
      "source": [],
      "metadata": {
        "id": "_N2jzUlap332"
      },
      "execution_count": null,
      "outputs": []
    },
    {
      "cell_type": "markdown",
      "source": [
        "# A"
      ],
      "metadata": {
        "id": "dszR5-iInlqO"
      }
    },
    {
      "cell_type": "code",
      "source": [
        "x = np.array(df[\"sales\"]).reshape((-1, 1))"
      ],
      "metadata": {
        "id": "mg6VSOoGqHLY"
      },
      "execution_count": null,
      "outputs": []
    },
    {
      "cell_type": "code",
      "source": [
        "plt.figure(figsize=(10,5))\n",
        "plt.scatter(df[\"sales\"],df[\"inventories\"])\n",
        "plt.plot(x,model.predict())\n",
        "plt.figtext(.2,.8,f\"intercept: {66.6690} \\nslope: {1.1839}\")"
      ],
      "metadata": {
        "colab": {
          "base_uri": "https://localhost:8080/",
          "height": 338
        },
        "id": "iedYzJQa6ZSk",
        "outputId": "743c1346-9807-4552-b32a-a7b1a09166c9"
      },
      "execution_count": null,
      "outputs": [
        {
          "output_type": "execute_result",
          "data": {
            "text/plain": [
              "Text(0.2, 0.8, 'intercept: 66.669 \\nslope: 1.1839')"
            ]
          },
          "metadata": {},
          "execution_count": 77
        },
        {
          "output_type": "display_data",
          "data": {
            "text/plain": [
              "<Figure size 720x360 with 1 Axes>"
            ],
            "image/png": "[encoded data removed]"
          },
          "metadata": {
            "needs_background": "light"
          }
        }
      ]
    },
    {
      "cell_type": "markdown",
      "source": [
        "# B"
      ],
      "metadata": {
        "id": "ATv5iZEQmXqu"
      }
    },
    {
      "cell_type": "code",
      "source": [
        "durbin_watson(model.resid)"
      ],
      "metadata": {
        "colab": {
          "base_uri": "https://localhost:8080/"
        },
        "id": "LMgy16I2Lqu3",
        "outputId": "288c4b29-7449-488f-a7af-ce939edee7fd"
      },
      "execution_count": null,
      "outputs": [
        {
          "output_type": "execute_result",
          "data": {
            "text/plain": [
              "0.1255528314268845"
            ]
          },
          "metadata": {},
          "execution_count": 78
        }
      ]
    },
    {
      "cell_type": "markdown",
      "source": [
        "# C"
      ],
      "metadata": {
        "id": "GLA68UhTOM_A"
      }
    },
    {
      "cell_type": "code",
      "source": [
        "x=df[\"sales\"]\n",
        "y=df[\"inventories\"]"
      ],
      "metadata": {
        "id": "NCDzN7e2OmtI"
      },
      "execution_count": null,
      "outputs": []
    },
    {
      "cell_type": "code",
      "source": [
        "first_diff = df.diff()\n",
        "first_diff.dropna(inplace=True)\n",
        "first_diff.head()"
      ],
      "metadata": {
        "id": "k7DhjbYePby4"
      },
      "execution_count": null,
      "outputs": []
    },
    {
      "cell_type": "code",
      "source": [
        "second_model = ols(\"inventories~sales\",data=first_diff).fit()\n",
        "second_resid = (second_model.resid)**2\n",
        "second_resid.sum()\n",
        "resid = (model.resid)**2\n",
        "resid.sum()"
      ],
      "metadata": {
        "id": "A6XPch2gQS55"
      },
      "execution_count": null,
      "outputs": []
    },
    {
      "cell_type": "markdown",
      "source": [
        "dari kedua proses (differencing sekali dan tanpa differencing), kita dapatkan nilai sum of square residualnya"
      ],
      "metadata": {
        "id": "Q2Z7ClJ9m0Z3"
      }
    },
    {
      "cell_type": "code",
      "source": [
        "g = second_resid.sum()/resid.sum()"
      ],
      "metadata": {
        "id": "ZpF9LT5duBdf"
      },
      "execution_count": null,
      "outputs": []
    },
    {
      "cell_type": "code",
      "source": [
        "g"
      ],
      "metadata": {
        "id": "hmfE1o0VRunI"
      },
      "execution_count": null,
      "outputs": []
    },
    {
      "cell_type": "markdown",
      "source": [
        "karena dl = 1.391, maka p = 1, tidak ditolak karena g < dl "
      ],
      "metadata": {
        "id": "fIZpeNHITdHY"
      }
    },
    {
      "cell_type": "markdown",
      "source": [
        "# D"
      ],
      "metadata": {
        "id": "Ai7Dl-vJUJIw"
      }
    },
    {
      "cell_type": "markdown",
      "source": [
        "Kita manfaatkan iterasi untuk n "
      ],
      "metadata": {
        "id": "jWWkVGtXVp04"
      }
    },
    {
      "cell_type": "code",
      "source": [
        "import statsmodels.stats.diagnostic as dg\n",
        "\n",
        "pval = 0\n",
        "\n",
        "i=0\n",
        "while pval <= .05:\n",
        "  i+=1\n",
        "  pval = dg.acorr_breusch_godfrey(model, nlags=i)[3]\n",
        "  lval = dg.acorr_breusch_godfrey(model, nlags=i)[0]\n",
        "\n",
        "  print(f\"{i}={pval} with lambda {lval}\")\n",
        "\n",
        "print(i)"
      ],
      "metadata": {
        "colab": {
          "base_uri": "https://localhost:8080/"
        },
        "id": "qJPuo7i9TNg3",
        "outputId": "96092fe5-b10d-4940-f72c-3a0ef38fb6f8"
      },
      "execution_count": null,
      "outputs": [
        {
          "output_type": "stream",
          "name": "stdout",
          "text": [
            "1=4.7415686558923633e-17 with lambda 34.709207716013076\n",
            "2=8.699442579575034e-16 with lambda 34.709251652804554\n",
            "3=4.994573337009376e-15 with lambda 34.9494254817367\n",
            "4=4.056302029433657e-14 with lambda 34.99063917875573\n",
            "5=3.0984622260647376e-13 with lambda 34.992881490939105\n",
            "6=1.8350619062521036e-12 with lambda 35.038436493941454\n",
            "7=4.5989233734921195e-12 with lambda 35.362871050007676\n",
            "8=2.5710737637352375e-11 with lambda 35.36511274854027\n",
            "9=3.561660339161943e-11 with lambda 35.85334735858667\n",
            "10=1.3119471739492491e-10 with lambda 35.966421149453126\n",
            "11=4.693364534528907e-10 with lambda 36.07050574173933\n",
            "12=1.0915283049415488e-09 with lambda 36.31518250112496\n",
            "13=4.185944194516769e-09 with lambda 36.36111663207784\n",
            "14=1.501075269321504e-08 with lambda 36.41374214329596\n",
            "15=4.782060525326516e-08 with lambda 36.495376067239704\n",
            "16=1.6106395559776398e-07 with lambda 36.53781841161722\n",
            "17=5.053197010403311e-07 with lambda 36.59194001928504\n",
            "18=1.5817032237172827e-06 with lambda 36.62885613273248\n",
            "19=4.514550881065034e-06 with lambda 36.68928004208684\n",
            "20=8.624021232627192e-07 with lambda 37.87027169310733\n",
            "21=2.7573012553573533e-06 with lambda 37.904876449753885\n",
            "22=3.055628787560571e-07 with lambda 38.98744041230551\n",
            "23=1.0593467814633647e-06 with lambda 39.025021456369714\n",
            "24=1.8753662180855265e-06 with lambda 39.23020269683549\n",
            "25=6.10240911906194e-06 with lambda 39.27501781296638\n",
            "26=1.05449209509674e-05 with lambda 39.478062524676446\n",
            "27=1.859778349100834e-05 with lambda 39.668262802144774\n",
            "28=1.860757120727836e-05 with lambda 39.96956861031155\n",
            "29=4.390567080546774e-05 with lambda 40.081082619572996\n",
            "30=0.00016493122319062613 with lambda 40.096637315279196\n",
            "31=0.0006253360616538164 with lambda 40.098083262883506\n",
            "32=0.0005324032680317506 with lambda 40.41596166510326\n",
            "33=0.0018697701809884905 with lambda 40.446766619826214\n",
            "34=0.007120106010130549 with lambda 40.450356393831264\n",
            "35=0.017088953039627437 with lambda 40.55278795189789\n",
            "36=0.010150048756471387 with lambda 40.86987945343311\n",
            "37=0.014495099640387994 with lambda 40.96765339474413\n",
            "38=0.13049077696022798 with lambda 40.97050578251682\n",
            "38\n"
          ]
        }
      ]
    },
    {
      "cell_type": "markdown",
      "source": [
        "Terlihat Pvalue lebih kecil dari α - 0.05 dari lag 1 hingga 38\n",
        "\n",
        "sehingga h0 diterima untuk lag 1 hingga 38, maka dengan aturan parsimoni, akan kita pilih model dengan lag paling kecil, yaitu lag 1 "
      ],
      "metadata": {
        "id": "XN-b8H5SXmPp"
      }
    },
    {
      "cell_type": "markdown",
      "source": [
        "# E"
      ],
      "metadata": {
        "id": "qpkDiItzYPvy"
      }
    },
    {
      "cell_type": "markdown",
      "source": [
        "untuk masalah ini dilakukan differencing sekali sehingga terpenuhi lag 1"
      ],
      "metadata": {
        "id": "WDV2KJk8YR1B"
      }
    },
    {
      "cell_type": "code",
      "source": [
        "first_diff = df.diff()\n",
        "first_diff.dropna(inplace=True)"
      ],
      "metadata": {
        "id": "bsGdlsjEVKjZ"
      },
      "execution_count": null,
      "outputs": []
    },
    {
      "cell_type": "code",
      "source": [
        "second_model = ols(\"inventories~sales\",data=first_diff).fit()\n",
        "print(second_model.summary())"
      ],
      "metadata": {
        "colab": {
          "base_uri": "https://localhost:8080/"
        },
        "id": "9ejoI76CYaMx",
        "outputId": "8b5f219f-f9fc-4383-a920-06a82b5c1a57"
      },
      "execution_count": null,
      "outputs": [
        {
          "output_type": "stream",
          "name": "stdout",
          "text": [
            "                            OLS Regression Results                            \n",
            "==============================================================================\n",
            "Dep. Variable:            inventories   R-squared:                       0.601\n",
            "Model:                            OLS   Adj. R-squared:                  0.591\n",
            "Method:                 Least Squares   F-statistic:                     57.27\n",
            "Date:                Sat, 10 Sep 2022   Prob (F-statistic):           4.25e-09\n",
            "Time:                        14:25:02   Log-Likelihood:                -152.48\n",
            "No. Observations:                  40   AIC:                             309.0\n",
            "Df Residuals:                      38   BIC:                             312.3\n",
            "Df Model:                           1                                         \n",
            "Covariance Type:            nonrobust                                         \n",
            "==============================================================================\n",
            "                 coef    std err          t      P>|t|      [0.025      0.975]\n",
            "------------------------------------------------------------------------------\n",
            "Intercept     -2.0562      2.442     -0.842      0.405      -7.000       2.888\n",
            "sales          1.3897      0.184      7.568      0.000       1.018       1.761\n",
            "==============================================================================\n",
            "Omnibus:                        7.128   Durbin-Watson:                   2.086\n",
            "Prob(Omnibus):                  0.028   Jarque-Bera (JB):                9.444\n",
            "Skew:                           0.361   Prob(JB):                      0.00890\n",
            "Kurtosis:                       5.268   Cond. No.                         18.3\n",
            "==============================================================================\n",
            "\n",
            "Notes:\n",
            "[1] Standard Errors assume that the covariance matrix of the errors is correctly specified.\n"
          ]
        }
      ]
    },
    {
      "cell_type": "markdown",
      "source": [
        "# F"
      ],
      "metadata": {
        "id": "sw_teuBKZF0s"
      }
    },
    {
      "cell_type": "code",
      "source": [
        "import math"
      ],
      "metadata": {
        "id": "KCAXNnyq0yk6"
      },
      "execution_count": null,
      "outputs": []
    },
    {
      "cell_type": "code",
      "source": [
        "logdf = df"
      ],
      "metadata": {
        "id": "asF8jEB1Zcyw"
      },
      "execution_count": null,
      "outputs": []
    },
    {
      "cell_type": "code",
      "source": [
        "logdf[\"sales\"] = np.log(logdf[\"sales\"])\n",
        "logdf[\"inventories\"] = np.log(logdf[\"inventories\"])"
      ],
      "metadata": {
        "id": "_BgruNy2ZFGg"
      },
      "execution_count": null,
      "outputs": []
    },
    {
      "cell_type": "code",
      "source": [
        "logmodel = ols(\"inventories ~ sales\",data=logdf).fit()"
      ],
      "metadata": {
        "id": "vwgiQ-pLZK4h"
      },
      "execution_count": null,
      "outputs": []
    },
    {
      "cell_type": "code",
      "source": [
        "print(logmodel.summary())"
      ],
      "metadata": {
        "colab": {
          "base_uri": "https://localhost:8080/"
        },
        "id": "XN35e1IZZomQ",
        "outputId": "32f3ee91-4c32-48b6-8531-9dcb89673841"
      },
      "execution_count": null,
      "outputs": [
        {
          "output_type": "stream",
          "name": "stdout",
          "text": [
            "                            OLS Regression Results                            \n",
            "==============================================================================\n",
            "Dep. Variable:            inventories   R-squared:                       0.979\n",
            "Model:                            OLS   Adj. R-squared:                  0.979\n",
            "Method:                 Least Squares   F-statistic:                     1849.\n",
            "Date:                Sat, 10 Sep 2022   Prob (F-statistic):           1.78e-34\n",
            "Time:                        14:30:00   Log-Likelihood:                 46.201\n",
            "No. Observations:                  41   AIC:                            -88.40\n",
            "Df Residuals:                      39   BIC:                            -84.97\n",
            "Df Model:                           1                                         \n",
            "Covariance Type:            nonrobust                                         \n",
            "==============================================================================\n",
            "                 coef    std err          t      P>|t|      [0.025      0.975]\n",
            "------------------------------------------------------------------------------\n",
            "Intercept      1.3279      0.101     13.191      0.000       1.124       1.531\n",
            "sales          0.8322      0.019     43.002      0.000       0.793       0.871\n",
            "==============================================================================\n",
            "Omnibus:                        0.760   Durbin-Watson:                   0.229\n",
            "Prob(Omnibus):                  0.684   Jarque-Bera (JB):                0.746\n",
            "Skew:                           0.025   Prob(JB):                        0.689\n",
            "Kurtosis:                       2.341   Cond. No.                         43.2\n",
            "==============================================================================\n",
            "\n",
            "Notes:\n",
            "[1] Standard Errors assume that the covariance matrix of the errors is correctly specified.\n"
          ]
        }
      ]
    },
    {
      "cell_type": "code",
      "source": [
        "durbin_watson(logmodel.resid)"
      ],
      "metadata": {
        "colab": {
          "base_uri": "https://localhost:8080/"
        },
        "id": "Sjgq47lxZpYQ",
        "outputId": "3ced54d2-868b-4c11-dec1-7665606643af"
      },
      "execution_count": null,
      "outputs": [
        {
          "output_type": "execute_result",
          "data": {
            "text/plain": [
              "0.22926541319061403"
            ]
          },
          "metadata": {},
          "execution_count": 94
        }
      ]
    },
    {
      "cell_type": "code",
      "source": [
        "first_diff = logdf.diff()\n",
        "first_diff.dropna(inplace=True)\n",
        "first_diff.head()"
      ],
      "metadata": {
        "colab": {
          "base_uri": "https://localhost:8080/",
          "height": 237
        },
        "id": "_oSt2vcwzn8_",
        "outputId": "71b60fb6-a555-4054-e544-1bebb1a16a71"
      },
      "execution_count": null,
      "outputs": [
        {
          "output_type": "execute_result",
          "data": {
            "text/plain": [
              "               sales  inventories  ratio\n",
              "year                                    \n",
              "1951-01-01  0.077441     0.067535  -0.02\n",
              "1952-01-01  0.063108     0.080433   0.03\n",
              "1953-01-01 -0.013094     0.034588   0.09\n",
              "1954-01-01  0.057066     0.009483  -0.09\n",
              "1955-01-01  0.119891     0.052735  -0.11"
            ],
            "text/html": [
              "\n",
              "  <div id=\"df-c84df3bf-ae62-4c7a-a83f-b6a27f9ac389\">\n",
              "    <div class=\"colab-df-container\">\n",
              "      <div>\n",
              "<style scoped>\n",
              "    .dataframe tbody tr th:only-of-type {\n",
              "        vertical-align: middle;\n",
              "    }\n",
              "\n",
              "    .dataframe tbody tr th {\n",
              "        vertical-align: top;\n",
              "    }\n",
              "\n",
              "    .dataframe thead th {\n",
              "        text-align: right;\n",
              "    }\n",
              "</style>\n",
              "<table border=\"1\" class=\"dataframe\">\n",
              "  <thead>\n",
              "    <tr style=\"text-align: right;\">\n",
              "      <th></th>\n",
              "      <th>sales</th>\n",
              "      <th>inventories</th>\n",
              "      <th>ratio</th>\n",
              "    </tr>\n",
              "    <tr>\n",
              "      <th>year</th>\n",
              "      <th></th>\n",
              "      <th></th>\n",
              "      <th></th>\n",
              "    </tr>\n",
              "  </thead>\n",
              "  <tbody>\n",
              "    <tr>\n",
              "      <th>1951-01-01</th>\n",
              "      <td>0.077441</td>\n",
              "      <td>0.067535</td>\n",
              "      <td>-0.02</td>\n",
              "    </tr>\n",
              "    <tr>\n",
              "      <th>1952-01-01</th>\n",
              "      <td>0.063108</td>\n",
              "      <td>0.080433</td>\n",
              "      <td>0.03</td>\n",
              "    </tr>\n",
              "    <tr>\n",
              "      <th>1953-01-01</th>\n",
              "      <td>-0.013094</td>\n",
              "      <td>0.034588</td>\n",
              "      <td>0.09</td>\n",
              "    </tr>\n",
              "    <tr>\n",
              "      <th>1954-01-01</th>\n",
              "      <td>0.057066</td>\n",
              "      <td>0.009483</td>\n",
              "      <td>-0.09</td>\n",
              "    </tr>\n",
              "    <tr>\n",
              "      <th>1955-01-01</th>\n",
              "      <td>0.119891</td>\n",
              "      <td>0.052735</td>\n",
              "      <td>-0.11</td>\n",
              "    </tr>\n",
              "  </tbody>\n",
              "</table>\n",
              "</div>\n",
              "      <button class=\"colab-df-convert\" onclick=\"convertToInteractive('df-c84df3bf-ae62-4c7a-a83f-b6a27f9ac389')\"\n",
              "              title=\"Convert this dataframe to an interactive table.\"\n",
              "              style=\"display:none;\">\n",
              "        \n",
              "  <svg xmlns=\"http://www.w3.org/2000/svg\" height=\"24px\"viewBox=\"0 0 24 24\"\n",
              "       width=\"24px\">\n",
              "    <path d=\"M0 0h24v24H0V0z\" fill=\"none\"/>\n",
              "    <path d=\"M18.56 5.44l.94 2.06.94-2.06 2.06-.94-2.06-.94-.94-2.06-.94 2.06-2.06.94zm-11 1L8.5 8.5l.94-2.06 2.06-.94-2.06-.94L8.5 2.5l-.94 2.06-2.06.94zm10 10l.94 2.06.94-2.06 2.06-.94-2.06-.94-.94-2.06-.94 2.06-2.06.94z\"/><path d=\"M17.41 7.96l-1.37-1.37c-.4-.4-.92-.59-1.43-.59-.52 0-1.04.2-1.43.59L10.3 9.45l-7.72 7.72c-.78.78-.78 2.05 0 2.83L4 21.41c.39.39.9.59 1.41.59.51 0 1.02-.2 1.41-.59l7.78-7.78 2.81-2.81c.8-.78.8-2.07 0-2.86zM5.41 20L4 18.59l7.72-7.72 1.47 1.35L5.41 20z\"/>\n",
              "  </svg>\n",
              "      </button>\n",
              "      \n",
              "  <style>\n",
              "    .colab-df-container {\n",
              "      display:flex;\n",
              "      flex-wrap:wrap;\n",
              "      gap: 12px;\n",
              "    }\n",
              "\n",
              "    .colab-df-convert {\n",
              "      background-color: #E8F0FE;\n",
              "      border: none;\n",
              "      border-radius: 50%;\n",
              "      cursor: pointer;\n",
              "      display: none;\n",
              "      fill: #1967D2;\n",
              "      height: 32px;\n",
              "      padding: 0 0 0 0;\n",
              "      width: 32px;\n",
              "    }\n",
              "\n",
              "    .colab-df-convert:hover {\n",
              "      background-color: #E2EBFA;\n",
              "      box-shadow: 0px 1px 2px rgba(60, 64, 67, 0.3), 0px 1px 3px 1px rgba(60, 64, 67, 0.15);\n",
              "      fill: #174EA6;\n",
              "    }\n",
              "\n",
              "    [theme=dark] .colab-df-convert {\n",
              "      background-color: #3B4455;\n",
              "      fill: #D2E3FC;\n",
              "    }\n",
              "\n",
              "    [theme=dark] .colab-df-convert:hover {\n",
              "      background-color: #434B5C;\n",
              "      box-shadow: 0px 1px 3px 1px rgba(0, 0, 0, 0.15);\n",
              "      filter: drop-shadow(0px 1px 2px rgba(0, 0, 0, 0.3));\n",
              "      fill: #FFFFFF;\n",
              "    }\n",
              "  </style>\n",
              "\n",
              "      <script>\n",
              "        const buttonEl =\n",
              "          document.querySelector('#df-c84df3bf-ae62-4c7a-a83f-b6a27f9ac389 button.colab-df-convert');\n",
              "        buttonEl.style.display =\n",
              "          google.colab.kernel.accessAllowed ? 'block' : 'none';\n",
              "\n",
              "        async function convertToInteractive(key) {\n",
              "          const element = document.querySelector('#df-c84df3bf-ae62-4c7a-a83f-b6a27f9ac389');\n",
              "          const dataTable =\n",
              "            await google.colab.kernel.invokeFunction('convertToInteractive',\n",
              "                                                     [key], {});\n",
              "          if (!dataTable) return;\n",
              "\n",
              "          const docLinkHtml = 'Like what you see? Visit the ' +\n",
              "            '<a target=\"_blank\" href=https://colab.research.google.com/notebooks/data_table.ipynb>data table notebook</a>'\n",
              "            + ' to learn more about interactive tables.';\n",
              "          element.innerHTML = '';\n",
              "          dataTable['output_type'] = 'display_data';\n",
              "          await google.colab.output.renderOutput(dataTable, element);\n",
              "          const docLink = document.createElement('div');\n",
              "          docLink.innerHTML = docLinkHtml;\n",
              "          element.appendChild(docLink);\n",
              "        }\n",
              "      </script>\n",
              "    </div>\n",
              "  </div>\n",
              "  "
            ]
          },
          "metadata": {},
          "execution_count": 110
        }
      ]
    },
    {
      "cell_type": "code",
      "source": [
        "second_model = ols(\"inventories~sales\",data=first_diff).fit()\n",
        "second_resid = (second_model.resid)**2\n",
        "print(second_resid.sum())\n",
        "resid = (logmodel.resid)**2\n",
        "print(resid.sum())"
      ],
      "metadata": {
        "colab": {
          "base_uri": "https://localhost:8080/"
        },
        "id": "mbvhtxjtzqnP",
        "outputId": "3dfcd16a-fedd-4fd0-89d6-6cfc9dab51dc"
      },
      "execution_count": null,
      "outputs": [
        {
          "output_type": "stream",
          "name": "stdout",
          "text": [
            "0.05684403686209831\n",
            "0.25208481977511554\n"
          ]
        }
      ]
    },
    {
      "cell_type": "code",
      "source": [
        "g = second_resid.sum()/resid.sum()\n",
        "print(g)"
      ],
      "metadata": {
        "colab": {
          "base_uri": "https://localhost:8080/"
        },
        "id": "TwSBY9Omz01Q",
        "outputId": "b3c621a6-4b12-427f-977f-4a92ea4e997a"
      },
      "execution_count": null,
      "outputs": [
        {
          "output_type": "stream",
          "name": "stdout",
          "text": [
            "0.22549567606970058\n"
          ]
        }
      ]
    },
    {
      "cell_type": "code",
      "source": [
        "import statsmodels.stats.diagnostic as dg\n",
        "\n",
        "pval = 0\n",
        "\n",
        "i=0\n",
        "while pval <= .05:\n",
        "  i+=1\n",
        "  pval = dg.acorr_breusch_godfrey(logmodel, nlags=i)[3]\n",
        "  lval = dg.acorr_breusch_godfrey(logmodel, nlags=i)[0]\n",
        "\n",
        "  print(f\"{i}={pval} with lambda {lval}\")\n",
        "\n",
        "print(i)"
      ],
      "metadata": {
        "colab": {
          "base_uri": "https://localhost:8080/"
        },
        "id": "LcckqwXO484g",
        "outputId": "99db7ee3-d24d-44a8-e47a-bef218ecf295"
      },
      "execution_count": null,
      "outputs": [
        {
          "output_type": "stream",
          "name": "stdout",
          "text": [
            "1=1.7003382494645147e-11 with lambda 28.72486042548045\n",
            "2=1.8252852325575297e-10 with lambda 28.79973392924516\n",
            "3=1.1524791124417455e-09 with lambda 28.925223218800284\n",
            "4=1.2015631940156497e-09 with lambda 30.089573236222712\n",
            "5=5.220921045525386e-09 with lambda 30.222566727078156\n",
            "6=2.3973126497283368e-08 with lambda 30.234771031033638\n",
            "7=9.31487426841159e-08 with lambda 30.28597054498329\n",
            "8=3.3006035322635086e-07 with lambda 30.337787927237546\n",
            "9=8.629515909959212e-08 with lambda 32.14122679669359\n",
            "10=2.761663340708552e-07 with lambda 32.22641426222306\n",
            "11=8.906152085587533e-07 with lambda 32.26546331486976\n",
            "12=6.177888675398623e-07 with lambda 33.28292095479975\n",
            "13=1.7974177286325893e-06 with lambda 33.354308156355884\n",
            "14=5.4384708238009555e-06 with lambda 33.36607176035063\n",
            "15=1.13783589609832e-05 with lambda 33.598621340069556\n",
            "16=2.532275354640748e-05 with lambda 33.76659394791242\n",
            "17=6.67731260523127e-05 with lambda 33.78457915310043\n",
            "18=0.00017123951837061553 with lambda 33.78588503387114\n",
            "19=0.00032378576253972314 with lambda 34.0015993888471\n",
            "20=0.00043024264439278653 with lambda 34.49130433175022\n",
            "21=0.0010071979915055999 with lambda 34.49369792957146\n",
            "22=2.806807543060137e-05 with lambda 37.426405957385754\n",
            "23=7.436886154128925e-05 with lambda 37.480471142484355\n",
            "24=0.00020895157443151638 with lambda 37.484494083059026\n",
            "25=0.00024618897225994925 with lambda 37.92670310739745\n",
            "26=0.0006724554666513928 with lambda 37.92870835005764\n",
            "27=0.0014253791718508884 with lambda 38.04745227602553\n",
            "28=0.0033411632181514325 with lambda 38.09055951283388\n",
            "29=0.0007745716341418341 with lambda 39.295396857466294\n",
            "30=0.0017968877860579208 with lambda 39.39479790841972\n",
            "31=0.003096053174315769 with lambda 39.60660771974674\n",
            "32=0.008320309789951054 with lambda 39.634600983458185\n",
            "33=0.021885156147525935 with lambda 39.645069078635935\n",
            "34=0.046392341386193386 with lambda 39.74180295428889\n",
            "35=0.10845233074252468 with lambda 39.74670516033576\n",
            "35\n"
          ]
        }
      ]
    },
    {
      "cell_type": "code",
      "source": [
        "first_diff[\"sales\"] = np.log(first_diff[\"sales\"])\n",
        "first_diff[\"inventories\"] = np.log(first_diff[\"inventories\"])"
      ],
      "metadata": {
        "colab": {
          "base_uri": "https://localhost:8080/"
        },
        "id": "zgLklAOH5KJ5",
        "outputId": "e6d628cf-0f3e-4984-ca95-7e52396b7668"
      },
      "execution_count": null,
      "outputs": [
        {
          "output_type": "stream",
          "name": "stderr",
          "text": [
            "/usr/local/lib/python3.7/dist-packages/pandas/core/arraylike.py:364: RuntimeWarning: invalid value encountered in log\n",
            "  result = getattr(ufunc, method)(*inputs, **kwargs)\n"
          ]
        }
      ]
    },
    {
      "cell_type": "code",
      "source": [
        "second_model = ols(\"inventories~sales\",data=first_diff).fit()\n",
        "print(second_model.summary())"
      ],
      "metadata": {
        "colab": {
          "base_uri": "https://localhost:8080/"
        },
        "id": "CNzXmhye5FxA",
        "outputId": "37c89d96-9e0c-4866-8560-91fe87d3d91a"
      },
      "execution_count": null,
      "outputs": [
        {
          "output_type": "stream",
          "name": "stdout",
          "text": [
            "                            OLS Regression Results                            \n",
            "==============================================================================\n",
            "Dep. Variable:            inventories   R-squared:                       0.412\n",
            "Model:                            OLS   Adj. R-squared:                  0.391\n",
            "Method:                 Least Squares   F-statistic:                     19.61\n",
            "Date:                Sat, 10 Sep 2022   Prob (F-statistic):           0.000132\n",
            "Time:                        14:56:20   Log-Likelihood:                -37.541\n",
            "No. Observations:                  30   AIC:                             79.08\n",
            "Df Residuals:                      28   BIC:                             81.89\n",
            "Df Model:                           1                                         \n",
            "Covariance Type:            nonrobust                                         \n",
            "==============================================================================\n",
            "                 coef    std err          t      P>|t|      [0.025      0.975]\n",
            "------------------------------------------------------------------------------\n",
            "Intercept      0.2733      0.785      0.348      0.730      -1.335       1.881\n",
            "sales          1.2450      0.281      4.429      0.000       0.669       1.821\n",
            "==============================================================================\n",
            "Omnibus:                       27.688   Durbin-Watson:                   2.045\n",
            "Prob(Omnibus):                  0.000   Jarque-Bera (JB):               49.763\n",
            "Skew:                          -2.161   Prob(JB):                     1.56e-11\n",
            "Kurtosis:                       7.597   Cond. No.                         15.4\n",
            "==============================================================================\n",
            "\n",
            "Notes:\n",
            "[1] Standard Errors assume that the covariance matrix of the errors is correctly specified.\n"
          ]
        }
      ]
    },
    {
      "cell_type": "code",
      "source": [],
      "metadata": {
        "id": "WW19hr9t5I4w"
      },
      "execution_count": null,
      "outputs": []
    },
    {
      "cell_type": "markdown",
      "source": [
        "#G "
      ],
      "metadata": {
        "id": "nBu7kvrYdx5a"
      }
    },
    {
      "cell_type": "markdown",
      "source": [
        "Bagusan Pake yang gk ln karena R^2 nya lebih bagus : 0.99648 >>> 0.979"
      ],
      "metadata": {
        "id": "ETK9HAxAdzVy"
      }
    },
    {
      "cell_type": "code",
      "source": [],
      "metadata": {
        "id": "LRgIbEHwb38B"
      },
      "execution_count": null,
      "outputs": []
    }
  ]
}